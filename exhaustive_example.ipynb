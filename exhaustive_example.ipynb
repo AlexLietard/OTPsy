{
 "cells": [
  {
   "cell_type": "markdown",
   "metadata": {},
   "source": [
    "# Example"
   ]
  },
  {
   "cell_type": "code",
   "execution_count": 1,
   "metadata": {},
   "outputs": [],
   "source": [
    "import numpy as np\n",
    "import pandas as pd\n",
    "\n",
    "# don't forget the most important one :)\n",
    "import otpsy as ot"
   ]
  },
  {
   "cell_type": "markdown",
   "metadata": {},
   "source": [
    "## Data simulation\n",
    "Consider conducting a research study aimed at investigating the impact of art exposition on the visual perception of angry facial expressions in 50 participants. In this context, variables could include the **duration (ms)** of exploration of the painting scene, **behavioral performance** (accuracy and RT) in discriminating between angry and happy faces, and **scores** related to depression. Subsequently, there is a desire to implement control for various factors in the analysis:\n",
    "\n",
    "* Does the participant look at the painting scene during the art exposition?\n",
    "* Is the participant realising the task properly? (fatigue, lack of motivation,...)\n",
    "* Exclusion of participants with excessively high depression scores (>12)."
   ]
  },
  {
   "cell_type": "code",
   "execution_count": 2,
   "metadata": {},
   "outputs": [],
   "source": [
    "# Make the result reproducible\n",
    "rng = np.random.default_rng(seed=22404)"
   ]
  },
  {
   "cell_type": "code",
   "execution_count": 3,
   "metadata": {},
   "outputs": [],
   "source": [
    "# art exposition\n",
    "art_looking_time = rng.normal(loc=2000, scale=400, size=60)\n",
    "\n",
    "# discrimination task\n",
    "discrimination_performance = rng.normal(loc=0.9, scale=0.05, size=60)\n",
    "discrimination_time = rng.normal(loc=400, scale=100,size=60)\n",
    "\n",
    "# questionnaire\n",
    "depression_score = rng.normal(loc=2, scale = 2, size=60)\n",
    "gender = [\"M\"  if i%2 == 0 else \"W\" for i in range(1, 61)]\n",
    "age = rng.normal(loc=30, scale = 4, size=60)\n",
    "random_col = rng.normal(loc=20, scale = 2, size=60)\n",
    "index_participant = [f\"P{i}\" for i in range(1, 61)]"
   ]
  },
  {
   "cell_type": "code",
   "execution_count": 4,
   "metadata": {},
   "outputs": [],
   "source": [
    "# Introduce some abberation in data\n",
    "art_looking_time[9:11] = 200 # participants 9 and 10 didn't look at the painting scene (only 200 ms of exploration time)\n",
    "discrimination_performance[36] = 0.51 # participant 36's discrimination score is near chance level\n",
    "discrimination_time[36] = 95 # participant 36's mean response time is way too short relatively to human ability\n",
    "depression_score[4] = 21 # participant 4 has a high depression score (above 12)"
   ]
  },
  {
   "cell_type": "code",
   "execution_count": 5,
   "metadata": {},
   "outputs": [],
   "source": [
    "df = pd.DataFrame({\n",
    "    \"index_participant\":index_participant,\n",
    "    \"gender\": gender,\n",
    "    \"age\": age,\n",
    "    \"random_col\": random_col,\n",
    "    'art_looking_time':art_looking_time,\n",
    "    'discrimination_performance': discrimination_performance,\n",
    "    'discrimination_time':discrimination_time,\n",
    "    'depression_score': depression_score\n",
    "})"
   ]
  },
  {
   "cell_type": "markdown",
   "metadata": {},
   "source": [
    "## Outliers detection"
   ]
  },
  {
   "cell_type": "markdown",
   "metadata": {},
   "source": [
    "The first step is to define a sample object to specify which columns you want to apply a specific method to. You have to specify one sample for each planned method you want to apply. For *art looking time*, *discrimination performance*, and *discrimination time*, we can use continuous but robust methods like IQR or MAD. For this purpose, we create a sample object to visualize the columns to test and apply the method afterward."
   ]
  },
  {
   "cell_type": "code",
   "execution_count": 14,
   "metadata": {},
   "outputs": [],
   "source": [
    "sample = ot.Sample(df=df,\n",
    "                   columns_to_test=[\"art_looking_time\", \n",
    "                                   \"discrimination_performance\", \n",
    "                                   \"discrimination_time\"],\n",
    "                   participant_column=\"index_participant\")"
   ]
  },
  {
   "cell_type": "code",
   "execution_count": null,
   "metadata": {},
   "outputs": [],
   "source": [
    "# Visualise the data\n",
    "sample.visualise()"
   ]
  },
  {
   "cell_type": "code",
   "execution_count": 16,
   "metadata": {},
   "outputs": [
    {
     "name": "stdout",
     "output_type": "stream",
     "text": [
      "---------------------------------\n",
      "Summary of the outliers detection\n",
      "---------------------------------\n",
      "\n",
      "Method used : Median Absolute Distance\n",
      "Distance used : 2.5\n",
      "Column tested : art_looking_time, discrimination_performance, discrimination_time\n",
      "Total number of outliers : 3\n",
      "Total number of flagged values : 4\n",
      "------------------------------\n",
      "\n",
      "The column art_looking_time has 2 outliers : P10, P11\n",
      "Low threshold : 750.87 / High threshold : 2957.41\n",
      "\n",
      "The column discrimination_performance has 1 outlier : P37\n",
      "Low threshold : 0.74 / High threshold : 1.04\n",
      "\n",
      "The column discrimination_time has 1 outlier : P37\n",
      "Low threshold : 149.12 / High threshold : 637.71\n"
     ]
    }
   ],
   "source": [
    "outliers = sample.method_MAD(distance = 2.5)\n",
    "print(outliers)"
   ]
  },
  {
   "cell_type": "code",
   "execution_count": 17,
   "metadata": {},
   "outputs": [
    {
     "name": "stdout",
     "output_type": "stream",
     "text": [
      "                  art_looking_time discrimination_performance  \\\n",
      "index_participant                                               \n",
      "P10                          200.0                      False   \n",
      "P11                          200.0                      False   \n",
      "P37                          False                       0.51   \n",
      "\n",
      "                  discrimination_time  \n",
      "index_participant                      \n",
      "P10                             False  \n",
      "P11                             False  \n",
      "P37                              95.0  \n"
     ]
    }
   ],
   "source": [
    "# To obtain more details about the different values\n",
    "print(outliers.inspect())"
   ]
  },
  {
   "cell_type": "markdown",
   "metadata": {},
   "source": [
    "As we can see, outliers that we introduce are spotted with median absolute distance method.\n",
    "In an interesting manner, we can see the P37 has really low performance, associated with a low reaction time. We can suggest that he didn't realise the task properly.   \n",
    "We could remove then now, but we want to take into account too high level of depression. Thus, we can create another outliers object that we will concatenate."
   ]
  },
  {
   "cell_type": "code",
   "execution_count": 18,
   "metadata": {},
   "outputs": [
    {
     "name": "stdout",
     "output_type": "stream",
     "text": [
      "---------------------------------\n",
      "Summary of the outliers detection\n",
      "---------------------------------\n",
      "\n",
      "Method used : Cut-Off\n",
      "Distance used : [-3.4410861785291784, 12.0]\n",
      "Column tested : depression_score\n",
      "Total number of outliers : 1\n",
      "Total number of flagged values : 1\n",
      "------------------------------\n",
      "\n",
      "The column depression_score has 1 outlier : P5\n",
      "Low threshold : -3.44 / High threshold : 12.0\n"
     ]
    }
   ],
   "source": [
    "outliers_depression = ot.Sample(\n",
    "    df,\n",
    "    \"depression_score\",\n",
    "    \"index_participant\"\n",
    ").method_cutoff(\n",
    "    high_threshold=12,\n",
    "    threshold_included=False)\n",
    "print(outliers_depression)"
   ]
  },
  {
   "cell_type": "code",
   "execution_count": 19,
   "metadata": {},
   "outputs": [
    {
     "name": "stdout",
     "output_type": "stream",
     "text": [
      "---------------------------------\n",
      "Summary of the outliers detection\n",
      "---------------------------------\n",
      "\n",
      "Method used  : Median Absolute Distance, Cut-Off\n",
      "Distance used : 2.5 (mad), (-3.4410861785291784, 12.0) (cut-off)\n",
      "Column tested : discrimination_performance (mad), depression_score (cut-off), discrimination_time (mad), art_looking_time (mad)\n",
      "Total number of outliers : 4\n",
      "Total number of flagged values : 5\n",
      "------------------------------\n",
      "\n",
      "The column discrimination_performance has 1 outlier : P37\n",
      "MAD: low: 0.74 / high: 1.04 \n",
      "\n",
      "The column depression_score has 1 outlier : P5\n",
      "CUT-OFF: low: -3.44 / high: 12.0 \n",
      "\n",
      "The column discrimination_time has 1 outlier : P37\n",
      "MAD: low: 149.12 / high: 637.71 \n",
      "\n",
      "The column art_looking_time has 2 outliers : P10, P11\n",
      "MAD: low: 750.87 / high: 2957.41 \n"
     ]
    }
   ],
   "source": [
    "# Concat both object\n",
    "final_outliers_object = ot.concat([outliers, outliers_depression])\n",
    "print(final_outliers_object)"
   ]
  },
  {
   "cell_type": "markdown",
   "metadata": {},
   "source": [
    "Finally, one participant (P44) has reported that he understood your hypothesis and acted in a way to confirm it. You decide to exclude him. You can simply add it to the outliers object."
   ]
  },
  {
   "cell_type": "code",
   "execution_count": 20,
   "metadata": {},
   "outputs": [],
   "source": [
    "final_outliers_object.add(\"P44\")"
   ]
  },
  {
   "cell_type": "markdown",
   "metadata": {},
   "source": [
    "If we would have consider an outliers as not being \"really an outliers\", it is possible to remove him (or them) with the method `.remove()`"
   ]
  },
  {
   "cell_type": "code",
   "execution_count": 21,
   "metadata": {},
   "outputs": [],
   "source": [
    "final_outliers_object.remove(\"P1\")\n",
    "# obj.remove([\"P1\", \"P2\"]) if you want to remove more than one outlier\n",
    "# obj.remove({\"Col1\": \"P1\"}) if you want to remove an outlier on a specific column."
   ]
  },
  {
   "cell_type": "markdown",
   "metadata": {},
   "source": [
    "Finally, you can obtain your dataframe without outliers."
   ]
  },
  {
   "cell_type": "code",
   "execution_count": 13,
   "metadata": {},
   "outputs": [],
   "source": [
    "df_cleaned = final_outliers_object.manage(\"delete\")\n",
    "# \"na\" if you want to replace aberrant values with missing values\n",
    "# \"winsorise\" if you want to replace aberrant values with the threshold."
   ]
  }
 ],
 "metadata": {
  "kernelspec": {
   "display_name": "Python 3",
   "language": "python",
   "name": "python3"
  },
  "language_info": {
   "codemirror_mode": {
    "name": "ipython",
    "version": 3
   },
   "file_extension": ".py",
   "mimetype": "text/x-python",
   "name": "python",
   "nbconvert_exporter": "python",
   "pygments_lexer": "ipython3",
   "version": "3.10.6"
  }
 },
 "nbformat": 4,
 "nbformat_minor": 2
}
